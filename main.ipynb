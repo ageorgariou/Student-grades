{
 "cells": [
  {
   "cell_type": "code",
   "execution_count": 10,
   "metadata": {},
   "outputs": [
    {
     "name": "stdout",
     "output_type": "stream",
     "text": [
      "R-squared (R²): 0.8592269308146501\n"
     ]
    }
   ],
   "source": [
    "import pandas as pd\n",
    "from sklearn.model_selection import train_test_split\n",
    "from sklearn.linear_model import LinearRegression\n",
    "from sklearn.metrics import r2_score\n",
    "\n",
    "df = pd.read_csv('student-por.csv', delimiter=';')\n",
    "\n",
    "useful_columns = [\n",
    "    'school', 'sex', 'age', 'traveltime', 'studytime', 'failures',\n",
    "    'higher', 'internet', 'freetime', 'goout', 'Walc', 'health',\n",
    "    'absences', 'G1', 'G2', 'G3'\n",
    "]\n",
    "\n",
    "data = df[useful_columns]\n",
    "\n",
    "data = pd.get_dummies(data, columns=['school', 'sex', 'higher', 'internet'], drop_first=True)\n",
    "\n",
    "X = data.drop(columns=['G3'])\n",
    "y = data['G3']\n",
    "\n",
    "X_train, X_test, y_train, y_test = train_test_split(X, y, test_size=0.2, random_state=42)\n",
    "\n",
    "model = LinearRegression()\n",
    "model.fit(X_train, y_train)\n",
    "\n",
    "predictions = model.predict(X_test)\n",
    "\n",
    "r2 = r2_score(y_test, predictions)\n",
    "print(f\"R-squared (R²): {r2}\")\n"
   ]
  }
 ],
 "metadata": {
  "kernelspec": {
   "display_name": "Python 3",
   "language": "python",
   "name": "python3"
  },
  "language_info": {
   "codemirror_mode": {
    "name": "ipython",
    "version": 3
   },
   "file_extension": ".py",
   "mimetype": "text/x-python",
   "name": "python",
   "nbconvert_exporter": "python",
   "pygments_lexer": "ipython3",
   "version": "3.10.9"
  }
 },
 "nbformat": 4,
 "nbformat_minor": 2
}
